{
 "cells": [
  {
   "cell_type": "markdown",
   "id": "6763815b-aa3f-4962-9c96-0e79f21b03ff",
   "metadata": {},
   "source": [
    "# Q1. Write a program to accept percentage from the user and display the grade according to the following criteria:\n",
    "## Marks >90,Grade - A\n",
    "## Marks >80 and <=90,Grade - B\n",
    "## Marks >=60 and<=80,Grade - C\n",
    "## Marks below 60,Grade - D"
   ]
  },
  {
   "cell_type": "markdown",
   "id": "345e9a7a-b6ce-4fb8-9cd2-165bb9f6cba6",
   "metadata": {},
   "source": [
    "# Ans :"
   ]
  },
  {
   "cell_type": "markdown",
   "id": "a5d03057-027f-40c3-97ea-9782373955f8",
   "metadata": {},
   "source": [
    "## Here's a Python program that accepts the percentage from the user and displays the corresponding grade according to the criteria you mentioned:"
   ]
  },
  {
   "cell_type": "code",
   "execution_count": 1,
   "id": "468a4e97-f486-4db8-abd7-3a9b6469c651",
   "metadata": {},
   "outputs": [
    {
     "name": "stdin",
     "output_type": "stream",
     "text": [
      "Enter your percentage:  67\n"
     ]
    },
    {
     "name": "stdout",
     "output_type": "stream",
     "text": [
      "Your grade is: C\n"
     ]
    }
   ],
   "source": [
    "percentage = float(input(\"Enter your percentage: \"))\n",
    "\n",
    "if percentage > 90:\n",
    "    grade = \"A\"\n",
    "elif percentage > 80 and percentage <= 90:\n",
    "    grade = \"B\"\n",
    "elif percentage >= 60 and percentage <= 80:\n",
    "    grade = \"C\"\n",
    "else:\n",
    "    grade = \"D\"\n",
    "\n",
    "print(\"Your grade is:\", grade)\n"
   ]
  },
  {
   "cell_type": "markdown",
   "id": "4ce2a4fc-e63e-4c5d-9b0c-77c91772da62",
   "metadata": {},
   "source": [
    "# Q2. Write a program to accept the cost price of a bike and display the road tax to be paid according to the following criteria:\n",
    "## Tax 15% when Cost price >100000\n",
    "## Tax 10% when Cost price >50000 and <=100000\n",
    "## Tax 5% when Cost price <=50000"
   ]
  },
  {
   "cell_type": "code",
   "execution_count": 2,
   "id": "2b4a3cb0-7c5f-46e4-b179-8586cbe3c2a8",
   "metadata": {},
   "outputs": [
    {
     "name": "stdin",
     "output_type": "stream",
     "text": [
      "Enter the cost price of the bike:  56000\n"
     ]
    },
    {
     "name": "stdout",
     "output_type": "stream",
     "text": [
      "The road tax to be paid is: 5600.0\n"
     ]
    }
   ],
   "source": [
    "cost_price = float(input(\"Enter the cost price of the bike: \"))\n",
    "\n",
    "if cost_price > 100000:\n",
    "    road_tax = cost_price * 0.15\n",
    "elif cost_price > 50000 and cost_price <= 100000:\n",
    "    road_tax = cost_price * 0.1\n",
    "else:\n",
    "    road_tax = cost_price * 0.05\n",
    "\n",
    "print(\"The road tax to be paid is:\", road_tax)\n"
   ]
  },
  {
   "cell_type": "markdown",
   "id": "7b99f095-157f-4413-9146-a678135b3cb4",
   "metadata": {},
   "source": [
    "# Q3. Accept any city from the user and display monuments of that city.\n",
    "## City    ==    Monument\n",
    "## Delhi    ==   Red Fort\n",
    "## Agra   ==     Taj mahal\n",
    "## Jaipur  ==     Jal Mahal"
   ]
  },
  {
   "cell_type": "code",
   "execution_count": 4,
   "id": "cbbe63e2-7a38-4586-b273-ac5735be1f39",
   "metadata": {},
   "outputs": [
    {
     "name": "stdin",
     "output_type": "stream",
     "text": [
      "Enter a city:  delhi\n"
     ]
    },
    {
     "name": "stdout",
     "output_type": "stream",
     "text": [
      "The monument of Delhi is Red Fort.\n"
     ]
    }
   ],
   "source": [
    "city = input(\"Enter a city: \")\n",
    "\n",
    "if city.lower() == \"delhi\":\n",
    "    monument = \"Red Fort\"\n",
    "elif city.lower() == \"agra\":\n",
    "    monument = \"Taj Mahal\"\n",
    "elif city.lower() == \"jaipur\":\n",
    "    monument = \"Jal Mahal\"\n",
    "else:\n",
    "    monument = \"Monument not found for the entered city\"\n",
    "\n",
    "print(f\"The monument of {city.title()} is {monument}.\")\n"
   ]
  },
  {
   "cell_type": "markdown",
   "id": "7bf56bc8-24aa-4ed9-8603-ec03ca754041",
   "metadata": {},
   "source": [
    "# Q4. Check how many times a given number can be divided by 3 before it is less than or equal to 10 ."
   ]
  },
  {
   "cell_type": "markdown",
   "id": "847810f9-c62b-4c1a-926d-9a307566f8c5",
   "metadata": {},
   "source": [
    "# Ans :"
   ]
  },
  {
   "cell_type": "code",
   "execution_count": 16,
   "id": "cb3e3132-feef-4d41-9e38-7b54bedfd0a5",
   "metadata": {},
   "outputs": [
    {
     "name": "stdin",
     "output_type": "stream",
     "text": [
      "Enter a number:  24\n"
     ]
    },
    {
     "name": "stdout",
     "output_type": "stream",
     "text": [
      "The given number can be divided by 3 1 times before it is less than or equal to 10.\n"
     ]
    }
   ],
   "source": [
    "number = int(input(\"Enter a number: \"))\n",
    "count = 0\n",
    "\n",
    "while number > 10:\n",
    "    number /= 3\n",
    "    count += 1\n",
    "\n",
    "print(f\"The given number can be divided by 3 {count} times before it is less than or equal to 10.\")\n"
   ]
  },
  {
   "cell_type": "markdown",
   "id": "bb8fca69-7159-4ca1-864d-e323b92a32ac",
   "metadata": {},
   "source": [
    "# Q5. Why and When to use while Loop In Python give a detailed description with example ."
   ]
  },
  {
   "cell_type": "markdown",
   "id": "d2bb6e67-60b6-4c18-bf4f-9a5b4e449722",
   "metadata": {},
   "source": [
    "# Ans :"
   ]
  },
  {
   "cell_type": "markdown",
   "id": "5afed600-61e2-4b10-ae95-f6596110186d",
   "metadata": {},
   "source": [
    "## The while loop in Python is used to repeatedly execute a block of code as long as a certain condition is true. It is a very useful construct in programming when you want to perform a task multiple times without having to write the same code over and over again.\n",
    "\n",
    "## Here's an example of a while loop in Python:"
   ]
  },
  {
   "cell_type": "code",
   "execution_count": 17,
   "id": "24205cc5-9f2e-48fe-bdc1-5a5742785a8c",
   "metadata": {},
   "outputs": [
    {
     "name": "stdout",
     "output_type": "stream",
     "text": [
      "The count is: 0\n",
      "The count is: 1\n",
      "The count is: 2\n",
      "The count is: 3\n",
      "The count is: 4\n"
     ]
    }
   ],
   "source": [
    "count = 0\n",
    "while count < 5:\n",
    "    print(\"The count is:\", count)\n",
    "    count += 1\n"
   ]
  },
  {
   "cell_type": "markdown",
   "id": "553545d3-2849-4bdd-a527-6bae304e7ddf",
   "metadata": {},
   "source": [
    "## This program will print the numbers 0 to 4, because the loop will run as long as the count variable is less than 5. Inside the loop, we print the current value of count using the print() function, and then we increment count by 1 using the += operator. When count reaches 5, the condition in the while statement will become false, and the loop will terminate."
   ]
  },
  {
   "cell_type": "markdown",
   "id": "8c695e2a-46d6-451c-bf1a-a5cd8467a3b3",
   "metadata": {},
   "source": [
    "# Q6. Use nested while loop to print 3 different pattern. "
   ]
  },
  {
   "cell_type": "markdown",
   "id": "48274483-9ac6-4212-9ecd-e526f4b35f02",
   "metadata": {},
   "source": [
    "# Ans :"
   ]
  },
  {
   "cell_type": "code",
   "execution_count": 18,
   "id": "853525fc-90fe-45b9-b458-9d0663238e36",
   "metadata": {},
   "outputs": [
    {
     "name": "stdout",
     "output_type": "stream",
     "text": [
      "*\n",
      "**\n",
      "***\n",
      "****\n",
      "*****\n"
     ]
    }
   ],
   "source": [
    "row = 1     # Pattern 1:\n",
    "while row <= 5:\n",
    "    col = 1\n",
    "    while col <= row:\n",
    "        print('*', end='')\n",
    "        col += 1\n",
    "    print()\n",
    "    row += 1\n"
   ]
  },
  {
   "cell_type": "code",
   "execution_count": 19,
   "id": "45cefe96-76da-4a3d-af3b-38199c625faf",
   "metadata": {},
   "outputs": [
    {
     "name": "stdout",
     "output_type": "stream",
     "text": [
      "*****\n",
      "****\n",
      "***\n",
      "**\n",
      "*\n"
     ]
    }
   ],
   "source": [
    "row = 5     # Pattern 2:\n",
    "while row >= 1:\n",
    "    col = 1\n",
    "    while col <= row:\n",
    "        print('*', end='')\n",
    "        col += 1\n",
    "    print()\n",
    "    row -= 1\n"
   ]
  },
  {
   "cell_type": "code",
   "execution_count": 27,
   "id": "6c60822e-bb07-43c8-8327-bdb0c356528b",
   "metadata": {},
   "outputs": [
    {
     "name": "stdout",
     "output_type": "stream",
     "text": [
      "* * * * * \n",
      "  * * * * \n",
      "    * * * \n",
      "      * * \n",
      "        * \n"
     ]
    }
   ],
   "source": [
    "rows = 5    # Pattern 3:\n",
    "i = rows\n",
    "while i >= 1:\n",
    "    j = rows\n",
    "    while j > i:\n",
    "        # display space\n",
    "        print(' ', end=' ')\n",
    "        j -= 1\n",
    "    k = 1\n",
    "    while k <= i:\n",
    "        print('*', end=' ')\n",
    "        k += 1\n",
    "    print()\n",
    "    i -= 1"
   ]
  },
  {
   "cell_type": "markdown",
   "id": "473d5f6f-88f6-4717-8a8f-a8f897afff29",
   "metadata": {},
   "source": [
    "# Q7. Reverse a while loop to display numbers from 10 to 1."
   ]
  },
  {
   "cell_type": "markdown",
   "id": "3779827a-ffd8-44c1-b6f8-702eca9318cd",
   "metadata": {},
   "source": [
    "# Ans :"
   ]
  },
  {
   "cell_type": "code",
   "execution_count": 25,
   "id": "c5fe9e62-21a9-4d62-8fd8-dc8b4d337e3a",
   "metadata": {},
   "outputs": [
    {
     "name": "stdout",
     "output_type": "stream",
     "text": [
      "10\n",
      "9\n",
      "8\n",
      "7\n",
      "6\n",
      "5\n",
      "4\n",
      "3\n",
      "2\n",
      "1\n"
     ]
    }
   ],
   "source": [
    "num = 10\n",
    "while num >= 1:\n",
    "    print(num)\n",
    "    num -= 1\n"
   ]
  },
  {
   "cell_type": "markdown",
   "id": "1a559d79-cd36-4ba2-b122-2e3562f5c891",
   "metadata": {},
   "source": [
    "# Q8.Reverse a while loop to display numbers from 10 to 1."
   ]
  },
  {
   "cell_type": "markdown",
   "id": "93ad79f6-b042-4322-afed-452eddf0ece0",
   "metadata": {},
   "source": [
    "# Ans :"
   ]
  },
  {
   "cell_type": "code",
   "execution_count": 26,
   "id": "d6a5a21a-fb59-4cdd-8acc-6fd2aeedc6dc",
   "metadata": {},
   "outputs": [
    {
     "name": "stdout",
     "output_type": "stream",
     "text": [
      "10\n",
      "9\n",
      "8\n",
      "7\n",
      "6\n",
      "5\n",
      "4\n",
      "3\n",
      "2\n",
      "1\n"
     ]
    }
   ],
   "source": [
    "num = 10\n",
    "while num >= 1:\n",
    "    print(num)\n",
    "    num -= 1\n"
   ]
  },
  {
   "cell_type": "code",
   "execution_count": null,
   "id": "7999f671-8b55-4d0a-9ce4-cc0df91ab5ba",
   "metadata": {},
   "outputs": [],
   "source": []
  }
 ],
 "metadata": {
  "kernelspec": {
   "display_name": "Python 3 (ipykernel)",
   "language": "python",
   "name": "python3"
  },
  "language_info": {
   "codemirror_mode": {
    "name": "ipython",
    "version": 3
   },
   "file_extension": ".py",
   "mimetype": "text/x-python",
   "name": "python",
   "nbconvert_exporter": "python",
   "pygments_lexer": "ipython3",
   "version": "3.10.8"
  }
 },
 "nbformat": 4,
 "nbformat_minor": 5
}
